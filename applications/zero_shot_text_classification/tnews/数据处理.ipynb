{
 "cells": [
  {
   "cell_type": "code",
   "execution_count": 2,
   "metadata": {},
   "outputs": [],
   "source": [
    "import os\n",
    "import json\n",
    "from collections import defaultdict\n",
    "import pandas as pd"
   ]
  },
  {
   "cell_type": "markdown",
   "metadata": {},
   "source": [
    "# 处理测试集数据"
   ]
  },
  {
   "cell_type": "code",
   "execution_count": 3,
   "metadata": {},
   "outputs": [
    {
     "name": "stdout",
     "output_type": "stream",
     "text": [
      "15\n"
     ]
    }
   ],
   "source": [
    "raw_dir = r\"G:\\dataset\\text_classify\\tnews\\raw\"\n",
    "output_dir = r\"G:\\dataset\\text_classify\\tnews\\paddlenlp\"\n",
    "\n",
    "label_list = []\n",
    "labelid2zh = dict()\n",
    "with open(os.path.join(raw_dir, \"label_index2en2zh.json\"), \"r\", encoding=\"utf-8\") as f:\n",
    "    for line in f:\n",
    "        line = json.loads(line)\n",
    "        label_list.append(line)\n",
    "        label_id = line[\"label\"]\n",
    "        label_zh = line[\"label_zh\"]\n",
    "        labelid2zh[label_id] = label_zh\n",
    "\n",
    "choices = []\n",
    "with open(os.path.join(output_dir, \"label.txt\"), \"r\", encoding=\"utf-8\") as f:\n",
    "    for line in f:\n",
    "        line = line.strip()\n",
    "        choices.append(line)\n",
    "print(len(choices))\n",
    "\n",
    "assert len(choices) == len(labelid2zh) == len(label_list)"
   ]
  },
  {
   "cell_type": "code",
   "execution_count": 4,
   "metadata": {},
   "outputs": [],
   "source": [
    "# 将预测文件的格式转换成 padddlenlp 格式\n",
    "input_file = os.path.join(raw_dir, \"test.json\")\n",
    "output_file = os.path.join(output_dir, \"test.txt\")\n",
    "with open(input_file, \"r\", encoding=\"utf-8\") as fr, open(output_file, \"w\", encoding=\"utf-8\") as f:\n",
    "    for line in fr:\n",
    "        line = json.loads(line)\n",
    "        index_id = line[\"id\"]\n",
    "        text = line[\"sentence\"]\n",
    "        data = {\n",
    "            \"id\": index_id,\n",
    "            \"text_a\": text,\n",
    "            \"text_b\": \"\",\n",
    "            \"question\": \"\", \n",
    "            \"choices\": choices,\n",
    "        }\n",
    "        f.write(json.dumps(data, ensure_ascii=False) + \"\\n\")"
   ]
  },
  {
   "cell_type": "code",
   "execution_count": 6,
   "metadata": {},
   "outputs": [
    {
     "data": {
      "text/plain": [
       "{'100': '故事',\n",
       " '101': '文化',\n",
       " '102': '娱乐',\n",
       " '103': '体育',\n",
       " '104': '财经',\n",
       " '106': '房产',\n",
       " '107': '汽车',\n",
       " '108': '教育',\n",
       " '109': '科技',\n",
       " '110': '军事',\n",
       " '112': '旅游',\n",
       " '113': '国际',\n",
       " '114': '股票',\n",
       " '115': '农业',\n",
       " '116': '电竞'}"
      ]
     },
     "execution_count": 6,
     "metadata": {},
     "output_type": "execute_result"
    }
   ],
   "source": [
    "labelid2zh"
   ]
  },
  {
   "cell_type": "code",
   "execution_count": 7,
   "metadata": {},
   "outputs": [],
   "source": [
    "# 另一个是有标签的测试集\n",
    "input_file = os.path.join(raw_dir, \"test_public.json\")\n",
    "output_file = os.path.join(output_dir, \"test_public.txt\")\n",
    "with open(input_file, \"r\", encoding=\"utf-8\") as fr, open(output_file, \"w\", encoding=\"utf-8\") as f:\n",
    "    for line in fr:\n",
    "        line = json.loads(line)\n",
    "        index_id = line[\"id\"]\n",
    "        text = line[\"sentence\"]\n",
    "        label_id = str(line[\"label\"])  # 没想到类型不一致, 标签文件中是 str, 训练文件中是 int  \n",
    "        label_zh = labelid2zh[label_id]\n",
    "        data = {\n",
    "            \"id\": index_id,\n",
    "            \"text_a\": text,\n",
    "            \"text_b\": \"\",\n",
    "            \"question\": \"\", \n",
    "            \"choices\": choices,\n",
    "            \"labels\": [choices.index(label_zh)],\n",
    "        }\n",
    "        f.write(json.dumps(data, ensure_ascii=False) + \"\\n\")"
   ]
  },
  {
   "cell_type": "code",
   "execution_count": null,
   "metadata": {},
   "outputs": [],
   "source": []
  }
 ],
 "metadata": {
  "kernelspec": {
   "display_name": "venv",
   "language": "python",
   "name": "python3"
  },
  "language_info": {
   "codemirror_mode": {
    "name": "ipython",
    "version": 3
   },
   "file_extension": ".py",
   "mimetype": "text/x-python",
   "name": "python",
   "nbconvert_exporter": "python",
   "pygments_lexer": "ipython3",
   "version": "3.8.12"
  },
  "orig_nbformat": 4
 },
 "nbformat": 4,
 "nbformat_minor": 2
}
