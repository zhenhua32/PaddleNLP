{
 "cells": [
  {
   "cell_type": "markdown",
   "metadata": {},
   "source": [
    "# 将模型转换成 ONNX"
   ]
  },
  {
   "cell_type": "code",
   "execution_count": 2,
   "metadata": {},
   "outputs": [],
   "source": [
    "import os\n",
    "\n",
    "import onnx\n",
    "import onnxruntime as ort\n",
    "import paddle2onnx\n",
    "from onnxconverter_common import float16"
   ]
  },
  {
   "cell_type": "code",
   "execution_count": 3,
   "metadata": {},
   "outputs": [],
   "source": [
    "onnx_dir = r\"G:\\code\\github\\PaddleNLP\\outputs\\tnews\\export_model\\onnx\"\n",
    "os.makedirs(onnx_dir, exist_ok=True)\n",
    "\n",
    "float_onnx_file = os.path.join(onnx_dir, \"model.onnx\")"
   ]
  },
  {
   "cell_type": "code",
   "execution_count": 4,
   "metadata": {},
   "outputs": [],
   "source": [
    "_static_model_file = r\"G:\\code\\github\\PaddleNLP\\outputs\\tnews\\export_model\\model.pdmodel\"\n",
    "_static_params_file = r\"G:\\code\\github\\PaddleNLP\\outputs\\tnews\\export_model\\model.pdiparams\"\n",
    "\n",
    "onnx_model = paddle2onnx.command.c_paddle_to_onnx(\n",
    "    model_file=_static_model_file,\n",
    "    params_file=_static_params_file,\n",
    "    opset_version=13,\n",
    "    enable_onnx_checker=True,\n",
    ")\n",
    "with open(float_onnx_file, \"wb\") as f:\n",
    "    f.write(onnx_model)"
   ]
  },
  {
   "cell_type": "code",
   "execution_count": null,
   "metadata": {},
   "outputs": [],
   "source": [
    "# 可能有数值溢出, fp16 精度不够\n",
    "# fp16_model_file = os.path.join(onnx_dir, \"fp16_model.onnx\")\n",
    "# onnx_model = onnx.load_model(float_onnx_file)\n",
    "# trans_model = float16.convert_float_to_float16(onnx_model, keep_io_types=True)\n",
    "# onnx.save_model(trans_model, fp16_model_file)"
   ]
  },
  {
   "cell_type": "code",
   "execution_count": 6,
   "metadata": {},
   "outputs": [],
   "source": [
    "providers = [(\"CUDAExecutionProvider\", {\"device_id\": 0})]\n",
    "sess_options = ort.SessionOptions()\n",
    "sess_options.intra_op_num_threads = os.cpu_count() // 2\n",
    "sess_options.inter_op_num_threads = os.cpu_count() // 2\n",
    "# 原来是在这里初始化 predictor 的, 而且用的是 fp16 版本的\n",
    "predictor = ort.InferenceSession(float_onnx_file, sess_options=sess_options, providers=providers)"
   ]
  },
  {
   "cell_type": "code",
   "execution_count": 7,
   "metadata": {},
   "outputs": [
    {
     "name": "stdout",
     "output_type": "stream",
     "text": [
      "['CUDAExecutionProvider', 'CPUExecutionProvider']\n",
      "['input_ids', 'token_type_ids', 'position_ids', 'attention_mask', 'omask_positions', 'cls_positions']\n"
     ]
    }
   ],
   "source": [
    "print(predictor.get_providers())\n",
    "\n",
    "input_handler = [i.name for i in predictor.get_inputs()]\n",
    "print(input_handler)"
   ]
  },
  {
   "cell_type": "markdown",
   "metadata": {},
   "source": [
    "# 好了, 转换成 onnx 模型已经可以了, 现在是要准备输入数据了"
   ]
  },
  {
   "cell_type": "code",
   "execution_count": null,
   "metadata": {},
   "outputs": [],
   "source": []
  }
 ],
 "metadata": {
  "kernelspec": {
   "display_name": "venv",
   "language": "python",
   "name": "python3"
  },
  "language_info": {
   "codemirror_mode": {
    "name": "ipython",
    "version": 3
   },
   "file_extension": ".py",
   "mimetype": "text/x-python",
   "name": "python",
   "nbconvert_exporter": "python",
   "pygments_lexer": "ipython3",
   "version": "3.8.12"
  },
  "orig_nbformat": 4
 },
 "nbformat": 4,
 "nbformat_minor": 2
}
