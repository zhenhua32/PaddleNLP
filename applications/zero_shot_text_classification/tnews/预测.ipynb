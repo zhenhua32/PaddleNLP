{
 "cells": [
  {
   "cell_type": "code",
   "execution_count": 9,
   "metadata": {},
   "outputs": [],
   "source": [
    "import os\n",
    "import json\n",
    "import sys\n",
    "from collections import defaultdict\n",
    "import pandas as pd\n",
    "from tqdm import tqdm\n",
    "\n",
    "# 必须覆盖掉已经安装的 paddlenlp\n",
    "sys.path.insert(0, r\"G:\\code\\github\\PaddleNLP\")\n",
    "from paddlenlp import Taskflow"
   ]
  },
  {
   "cell_type": "code",
   "execution_count": 2,
   "metadata": {},
   "outputs": [
    {
     "name": "stdout",
     "output_type": "stream",
     "text": [
      "15\n"
     ]
    }
   ],
   "source": [
    "data_dir = r\"G:\\dataset\\text_classify\\tnews\\paddlenlp\"\n",
    "\n",
    "choices = []\n",
    "with open(os.path.join(data_dir, \"label.txt\"), \"r\", encoding=\"utf-8\") as f:\n",
    "    for line in f:\n",
    "        line = line.strip()\n",
    "        choices.append(line)\n",
    "print(len(choices))"
   ]
  },
  {
   "cell_type": "code",
   "execution_count": 3,
   "metadata": {},
   "outputs": [],
   "source": [
    "# 还需要一个 label_id\n",
    "raw_dir = r\"G:\\dataset\\text_classify\\tnews\\raw\"\n",
    "\n",
    "label_list = []\n",
    "zh2label_id = dict()\n",
    "with open(os.path.join(raw_dir, \"label_index2en2zh.json\"), \"r\", encoding=\"utf-8\") as f:\n",
    "    for line in f:\n",
    "        line = json.loads(line)\n",
    "        label_list.append(line)\n",
    "        label_id = line[\"label\"]\n",
    "        label_zh = line[\"label_zh\"]\n",
    "        zh2label_id[label_zh] = label_id"
   ]
  },
  {
   "cell_type": "code",
   "execution_count": 4,
   "metadata": {},
   "outputs": [
    {
     "data": {
      "text/plain": [
       "{'故事': '100',\n",
       " '文化': '101',\n",
       " '娱乐': '102',\n",
       " '体育': '103',\n",
       " '财经': '104',\n",
       " '房产': '106',\n",
       " '汽车': '107',\n",
       " '教育': '108',\n",
       " '科技': '109',\n",
       " '军事': '110',\n",
       " '旅游': '112',\n",
       " '国际': '113',\n",
       " '股票': '114',\n",
       " '农业': '115',\n",
       " '电竞': '116'}"
      ]
     },
     "execution_count": 4,
     "metadata": {},
     "output_type": "execute_result"
    }
   ],
   "source": [
    "zh2label_id"
   ]
  },
  {
   "cell_type": "code",
   "execution_count": 12,
   "metadata": {},
   "outputs": [
    {
     "name": "stderr",
     "output_type": "stream",
     "text": [
      "\u001b[32m[2023-07-17 22:14:25,346] [    INFO]\u001b[0m - We are using <class 'paddlenlp.transformers.ernie.tokenizer.ErnieTokenizer'> to load 'G:\\code\\github\\PaddleNLP\\outputs\\tnews\\plm'.\u001b[0m\n",
      "\u001b[32m[2023-07-17 22:14:25,363] [    INFO]\u001b[0m - Assigning ['[O-MASK]'] to the additional_special_tokens key of the tokenizer\u001b[0m\n"
     ]
    },
    {
     "name": "stdout",
     "output_type": "stream",
     "text": [
      "[{'text_a': '加长3.4米，玛莎拉蒂Ghibli奇特改装，内饰极尽奢华', 'predictions': [{'label': '汽车', 'score': 0.9951342415991393}]}]\n"
     ]
    }
   ],
   "source": [
    "model_dir = r\"G:\\code\\github\\PaddleNLP\\outputs\\tnews\\plm\"\n",
    "\n",
    "task = Taskflow(\n",
    "    \"zero_shot_text_classification\", \n",
    "    model=\"utc-base\",\n",
    "    schema=choices,\n",
    "    task_path=model_dir,\n",
    "    precision=\"fp32\",\n",
    "    single_label=True,\n",
    "    batch_size=32,\n",
    ")\n",
    "task_instance = task.task_instance\n",
    "print(task(\"加长3.4米，玛莎拉蒂Ghibli奇特改装，内饰极尽奢华\"))"
   ]
  },
  {
   "cell_type": "code",
   "execution_count": 8,
   "metadata": {},
   "outputs": [],
   "source": [
    "input_file = os.path.join(data_dir, \"test.txt\")\n",
    "output_file = os.path.join(data_dir, \"../submit/tnewsf_predict.json\")\n",
    "\n",
    "with open(input_file, \"r\", encoding=\"utf-8\") as fr, open(output_file, \"w\", encoding=\"utf-8\") as f:\n",
    "    data_list = []\n",
    "    for line in fr:\n",
    "        line = json.loads(line)\n",
    "        data_list.append(line)\n",
    "    \n",
    "    result = task(data_list)\n",
    "    for data, item in zip(data_list, result):\n",
    "        index_id = data[\"id\"]\n",
    "        predict_label = item[\"predictions\"][0][\"label\"]\n",
    "        label_id = zh2label_id[predict_label]\n",
    "        \n",
    "        f.write(json.dumps({\"id\": index_id, \"label\": label_id}, ensure_ascii=False) + \"\\n\")\n"
   ]
  },
  {
   "cell_type": "code",
   "execution_count": 12,
   "metadata": {},
   "outputs": [
    {
     "data": {
      "text/plain": [
       "{'id': '0',\n",
       " 'text_a': '加长3.4米，玛莎拉蒂Ghibli奇特改装，内饰极尽奢华',\n",
       " 'text_b': '',\n",
       " 'question': '',\n",
       " 'choices': ['故事',\n",
       "  '文化',\n",
       "  '娱乐',\n",
       "  '体育',\n",
       "  '财经',\n",
       "  '房产',\n",
       "  '汽车',\n",
       "  '教育',\n",
       "  '科技',\n",
       "  '军事',\n",
       "  '旅游',\n",
       "  '国际',\n",
       "  '股票',\n",
       "  '农业',\n",
       "  '电竞']}"
      ]
     },
     "execution_count": 12,
     "metadata": {},
     "output_type": "execute_result"
    }
   ],
   "source": [
    "line"
   ]
  },
  {
   "cell_type": "markdown",
   "metadata": {},
   "source": [
    "# 跑一下看看 test_public.txt 的效果"
   ]
  },
  {
   "cell_type": "code",
   "execution_count": 29,
   "metadata": {},
   "outputs": [
    {
     "name": "stdout",
     "output_type": "stream",
     "text": [
      "['g:\\\\code\\\\github\\\\PaddleNLP\\\\venv\\\\Scripts\\\\python.exe', 'G:\\\\code\\\\github\\\\PaddleNLP\\\\applications\\\\zero_shot_text_classification\\\\run_eval.py', '--device=gpu', '--model_path=C:\\\\Users\\\\zhenh\\\\.paddlenlp\\\\models\\\\utc-base', '--test_path=G:\\\\dataset\\\\text_classify\\\\tnews\\\\paddlenlp\\\\test_public.txt', '--per_device_eval_batch_size=32', '--max_seq_len=512', '--output_dir=G:\\\\code\\\\github\\\\PaddleNLP\\\\outputs\\\\tnews\\\\eval_results']\n"
     ]
    }
   ],
   "source": [
    "import os\n",
    "import subprocess\n",
    "import sys\n",
    "\n",
    "# 尝试覆盖掉已经安装的 paddlenlp\n",
    "# sys.path.insert(0, r\"G:\\code\\github\\PaddleNLP\")\n",
    "os.environ[\"PYTHONPATH\"] = r\"G:\\code\\github\\PaddleNLP\"\n",
    "\n",
    "cur_dir = r\"G:\\code\\github\\PaddleNLP\\applications\\zero_shot_text_classification\"\n",
    "data_dir = r\"G:\\dataset\\text_classify\\tnews\\paddlenlp\"\n",
    "train_output_dir = r\"G:\\code\\github\\PaddleNLP\\outputs\\tnews\"\n",
    "# 这里需要的是训练输出目录, 而不是模型导出目录\n",
    "model_dir = os.path.join(train_output_dir, \"\")\n",
    "model_dir = r\"C:\\Users\\zhenh\\.paddlenlp\\models\\utc-base\"\n",
    "test_path = os.path.join(data_dir, \"test_public.txt\")\n",
    "output_dir = os.path.join(train_output_dir, \"eval_results\")\n",
    "\n",
    "cmd_list = [\n",
    "    sys.executable,\n",
    "    os.path.join(cur_dir, \"run_eval.py\"),\n",
    "    \"--device=gpu\",\n",
    "    # 如果将 model_path 注释掉, 就是 zero-shot\n",
    "    f\"--model_path={model_dir}\",\n",
    "    f\"--test_path={test_path}\",\n",
    "    \"--per_device_eval_batch_size=32\",\n",
    "    \"--max_seq_len=512\",\n",
    "    f\"--output_dir={output_dir}\",\n",
    "]\n",
    "print(cmd_list)\n",
    "result = subprocess.run(cmd_list, capture_output=True, text=True, encoding=\"utf-8\")\n",
    "if result.returncode != 0:\n",
    "    print(result.stdout)\n",
    "    print(result.stderr)"
   ]
  },
  {
   "cell_type": "code",
   "execution_count": null,
   "metadata": {},
   "outputs": [],
   "source": [
    "# plm 的结果\n",
    "{\n",
    "\t\"test_loss\": 3.076721429824829,\n",
    "\t\"test_micro_f1\": 0.9416915422885572,\n",
    "\t\"test_macro_f1\": 0.7575248111199813,\n",
    "\t\"test_runtime\": 4.9484,\n",
    "\t\"test_samples_per_second\": 406.192,\n",
    "\t\"test_steps_per_second\": 12.731\n",
    "}\n",
    "# 输出根目录的结果\n",
    "{\n",
    "\t\"test_loss\": 1.8031879663467408,\n",
    "\t\"test_micro_f1\": 0.9516086235489221,\n",
    "\t\"test_macro_f1\": 0.7886135964319503,\n",
    "\t\"test_runtime\": 4.9238,\n",
    "\t\"test_samples_per_second\": 408.22,\n",
    "\t\"test_steps_per_second\": 12.795\n",
    "}\n",
    "# zero-shot 的结果\n",
    "{\n",
    "\t\"test_loss\": 3.076721429824829,\n",
    "\t\"test_micro_f1\": 0.9416915422885572,\n",
    "\t\"test_macro_f1\": 0.7575248111199813,\n",
    "\t\"test_runtime\": 4.9209,\n",
    "\t\"test_samples_per_second\": 408.46,\n",
    "\t\"test_steps_per_second\": 12.802\n",
    "}"
   ]
  }
 ],
 "metadata": {
  "kernelspec": {
   "display_name": "venv",
   "language": "python",
   "name": "python3"
  },
  "language_info": {
   "codemirror_mode": {
    "name": "ipython",
    "version": 3
   },
   "file_extension": ".py",
   "mimetype": "text/x-python",
   "name": "python",
   "nbconvert_exporter": "python",
   "pygments_lexer": "ipython3",
   "version": "3.8.12"
  },
  "orig_nbformat": 4
 },
 "nbformat": 4,
 "nbformat_minor": 2
}
