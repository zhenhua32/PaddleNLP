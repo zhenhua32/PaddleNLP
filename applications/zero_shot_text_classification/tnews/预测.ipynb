{
 "cells": [
  {
   "cell_type": "code",
   "execution_count": 1,
   "metadata": {},
   "outputs": [],
   "source": [
    "import os\n",
    "import json\n",
    "import sys\n",
    "from collections import defaultdict\n",
    "import pandas as pd\n",
    "from tqdm import tqdm\n",
    "\n",
    "# 必须覆盖掉已经安装的 paddlenlp\n",
    "sys.path.insert(0, r\"G:\\code\\github\\PaddleNLP\")\n",
    "from paddlenlp import Taskflow"
   ]
  },
  {
   "cell_type": "code",
   "execution_count": 2,
   "metadata": {},
   "outputs": [
    {
     "name": "stdout",
     "output_type": "stream",
     "text": [
      "15\n"
     ]
    }
   ],
   "source": [
    "data_dir = r\"G:\\dataset\\text_classify\\tnews\\paddlenlp\"\n",
    "\n",
    "choices = []\n",
    "with open(os.path.join(data_dir, \"label.txt\"), \"r\", encoding=\"utf-8\") as f:\n",
    "    for line in f:\n",
    "        line = line.strip()\n",
    "        choices.append(line)\n",
    "print(len(choices))"
   ]
  },
  {
   "cell_type": "code",
   "execution_count": 3,
   "metadata": {},
   "outputs": [],
   "source": [
    "# 还需要一个 label_id\n",
    "raw_dir = r\"G:\\dataset\\text_classify\\tnews\\raw\"\n",
    "\n",
    "label_list = []\n",
    "zh2label_id = dict()\n",
    "with open(os.path.join(raw_dir, \"label_index2en2zh.json\"), \"r\", encoding=\"utf-8\") as f:\n",
    "    for line in f:\n",
    "        line = json.loads(line)\n",
    "        label_list.append(line)\n",
    "        label_id = line[\"label\"]\n",
    "        label_zh = line[\"label_zh\"]\n",
    "        zh2label_id[label_zh] = label_id"
   ]
  },
  {
   "cell_type": "code",
   "execution_count": 4,
   "metadata": {},
   "outputs": [
    {
     "data": {
      "text/plain": [
       "{'故事': '100',\n",
       " '文化': '101',\n",
       " '娱乐': '102',\n",
       " '体育': '103',\n",
       " '财经': '104',\n",
       " '房产': '106',\n",
       " '汽车': '107',\n",
       " '教育': '108',\n",
       " '科技': '109',\n",
       " '军事': '110',\n",
       " '旅游': '112',\n",
       " '国际': '113',\n",
       " '股票': '114',\n",
       " '农业': '115',\n",
       " '电竞': '116'}"
      ]
     },
     "execution_count": 4,
     "metadata": {},
     "output_type": "execute_result"
    }
   ],
   "source": [
    "zh2label_id"
   ]
  },
  {
   "cell_type": "code",
   "execution_count": 6,
   "metadata": {},
   "outputs": [
    {
     "name": "stderr",
     "output_type": "stream",
     "text": [
      "\u001b[32m[2023-07-16 22:54:17,540] [    INFO]\u001b[0m - Downloading vocab.txt from https://paddlenlp.bj.bcebos.com/taskflow/zero_shot_text_classification/utc-base/vocab.txt\u001b[0m\n"
     ]
    },
    {
     "data": {
      "application/vnd.jupyter.widget-view+json": {
       "model_id": "72415b49aeff4c5187106508fae6507c",
       "version_major": 2,
       "version_minor": 0
      },
      "text/plain": [
       "  0%|          | 0.00/182k [00:00<?, ?B/s]"
      ]
     },
     "metadata": {},
     "output_type": "display_data"
    },
    {
     "name": "stderr",
     "output_type": "stream",
     "text": [
      "\u001b[32m[2023-07-16 22:54:17,967] [    INFO]\u001b[0m - Downloading special_tokens_map.json from https://paddlenlp.bj.bcebos.com/taskflow/zero_shot_text_classification/utc-base/special_tokens_map.json\u001b[0m\n"
     ]
    },
    {
     "data": {
      "application/vnd.jupyter.widget-view+json": {
       "model_id": "83f6420bfae149cca649b0476c2f2e6f",
       "version_major": 2,
       "version_minor": 0
      },
      "text/plain": [
       "  0%|          | 0.00/112 [00:00<?, ?B/s]"
      ]
     },
     "metadata": {},
     "output_type": "display_data"
    },
    {
     "name": "stderr",
     "output_type": "stream",
     "text": [
      "\u001b[32m[2023-07-16 22:54:18,158] [    INFO]\u001b[0m - Downloading tokenizer_config.json from https://paddlenlp.bj.bcebos.com/taskflow/zero_shot_text_classification/utc-base/tokenizer_config.json\u001b[0m\n"
     ]
    },
    {
     "data": {
      "application/vnd.jupyter.widget-view+json": {
       "model_id": "6cd2f82350dd424fb49fa4a5ca82541d",
       "version_major": 2,
       "version_minor": 0
      },
      "text/plain": [
       "  0%|          | 0.00/198 [00:00<?, ?B/s]"
      ]
     },
     "metadata": {},
     "output_type": "display_data"
    },
    {
     "name": "stderr",
     "output_type": "stream",
     "text": [
      "\u001b[32m[2023-07-16 22:54:18,369] [    INFO]\u001b[0m - We are using <class 'paddlenlp.transformers.ernie.tokenizer.ErnieTokenizer'> to load 'G:\\code\\github\\PaddleNLP\\outputs\\tnews\\plm'.\u001b[0m\n",
      "\u001b[32m[2023-07-16 22:54:18,385] [    INFO]\u001b[0m - Assigning ['[O-MASK]'] to the additional_special_tokens key of the tokenizer\u001b[0m\n",
      "\u001b[32m[2023-07-16 22:54:19,122] [    INFO]\u001b[0m - loading configuration file G:\\code\\github\\PaddleNLP\\outputs\\tnews\\plm\\config.json\u001b[0m\n",
      "\u001b[32m[2023-07-16 22:54:19,929] [    INFO]\u001b[0m - All model checkpoint weights were used when initializing UTC.\n",
      "\u001b[0m\n",
      "\u001b[32m[2023-07-16 22:54:19,930] [    INFO]\u001b[0m - All the weights of UTC were initialized from the model checkpoint at G:\\code\\github\\PaddleNLP\\outputs\\tnews\\plm.\n",
      "If your task is similar to the task the model of the checkpoint was trained on, you can already use UTC for predictions without further training.\u001b[0m\n",
      "\u001b[32m[2023-07-16 22:54:19,931] [    INFO]\u001b[0m - Converting to the inference model cost a little time.\u001b[0m\n",
      "\u001b[32m[2023-07-16 22:54:24,448] [    INFO]\u001b[0m - The inference model save in the path:G:\\code\\github\\PaddleNLP\\outputs\\tnews\\plm\\static\\inference\u001b[0m\n"
     ]
    },
    {
     "name": "stdout",
     "output_type": "stream",
     "text": [
      "[{'text_a': '加长3.4米，玛莎拉蒂Ghibli奇特改装，内饰极尽奢华', 'predictions': [{'label': '汽车', 'score': 0.9951342415991393}]}]\n"
     ]
    }
   ],
   "source": [
    "model_dir = r\"G:\\code\\github\\PaddleNLP\\outputs\\tnews\\plm\"\n",
    "\n",
    "task = Taskflow(\n",
    "    \"zero_shot_text_classification\", \n",
    "    model=\"utc-base\",\n",
    "    schema=choices,\n",
    "    task_path=model_dir,\n",
    "    precision=\"fp32\",\n",
    "    single_label=True,\n",
    "    batch_size=32,\n",
    ")\n",
    "task_instance = task.task_instance\n",
    "print(task(\"加长3.4米，玛莎拉蒂Ghibli奇特改装，内饰极尽奢华\"))"
   ]
  },
  {
   "cell_type": "code",
   "execution_count": 8,
   "metadata": {},
   "outputs": [],
   "source": [
    "input_file = os.path.join(data_dir, \"test.txt\")\n",
    "output_file = os.path.join(data_dir, \"../submit/tnewsf_predict.json\")\n",
    "\n",
    "with open(input_file, \"r\", encoding=\"utf-8\") as fr, open(output_file, \"w\", encoding=\"utf-8\") as f:\n",
    "    data_list = []\n",
    "    for line in fr:\n",
    "        line = json.loads(line)\n",
    "        data_list.append(line)\n",
    "    \n",
    "    result = task(data_list)\n",
    "    for data, item in zip(data_list, result):\n",
    "        index_id = data[\"id\"]\n",
    "        predict_label = item[\"predictions\"][0][\"label\"]\n",
    "        label_id = zh2label_id[predict_label]\n",
    "        \n",
    "        f.write(json.dumps({\"id\": index_id, \"label\": label_id}, ensure_ascii=False) + \"\\n\")\n"
   ]
  },
  {
   "cell_type": "code",
   "execution_count": 12,
   "metadata": {},
   "outputs": [
    {
     "data": {
      "text/plain": [
       "{'id': '0',\n",
       " 'text_a': '加长3.4米，玛莎拉蒂Ghibli奇特改装，内饰极尽奢华',\n",
       " 'text_b': '',\n",
       " 'question': '',\n",
       " 'choices': ['故事',\n",
       "  '文化',\n",
       "  '娱乐',\n",
       "  '体育',\n",
       "  '财经',\n",
       "  '房产',\n",
       "  '汽车',\n",
       "  '教育',\n",
       "  '科技',\n",
       "  '军事',\n",
       "  '旅游',\n",
       "  '国际',\n",
       "  '股票',\n",
       "  '农业',\n",
       "  '电竞']}"
      ]
     },
     "execution_count": 12,
     "metadata": {},
     "output_type": "execute_result"
    }
   ],
   "source": [
    "line"
   ]
  },
  {
   "cell_type": "code",
   "execution_count": null,
   "metadata": {},
   "outputs": [],
   "source": []
  }
 ],
 "metadata": {
  "kernelspec": {
   "display_name": "venv",
   "language": "python",
   "name": "python3"
  },
  "language_info": {
   "codemirror_mode": {
    "name": "ipython",
    "version": 3
   },
   "file_extension": ".py",
   "mimetype": "text/x-python",
   "name": "python",
   "nbconvert_exporter": "python",
   "pygments_lexer": "ipython3",
   "version": "3.8.12"
  },
  "orig_nbformat": 4
 },
 "nbformat": 4,
 "nbformat_minor": 2
}
