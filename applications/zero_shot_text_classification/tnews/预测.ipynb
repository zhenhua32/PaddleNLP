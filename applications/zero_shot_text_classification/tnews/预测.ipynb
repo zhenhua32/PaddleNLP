{
 "cells": [
  {
   "cell_type": "code",
   "execution_count": 1,
   "metadata": {},
   "outputs": [],
   "source": [
    "import os\n",
    "import json\n",
    "import sys\n",
    "from collections import defaultdict\n",
    "import pandas as pd\n",
    "\n",
    "sys.path.insert(0, r\"G:\\code\\github\\PaddleNLP\")\n",
    "from paddlenlp import Taskflow"
   ]
  },
  {
   "cell_type": "code",
   "execution_count": 2,
   "metadata": {},
   "outputs": [
    {
     "name": "stdout",
     "output_type": "stream",
     "text": [
      "15\n"
     ]
    }
   ],
   "source": [
    "data_dir = r\"G:\\dataset\\text_classify\\tnews\\paddlenlp\"\n",
    "\n",
    "choices = []\n",
    "with open(os.path.join(data_dir, \"label.txt\"), \"r\", encoding=\"utf-8\") as f:\n",
    "    for line in f:\n",
    "        line = line.strip()\n",
    "        choices.append(line)\n",
    "print(len(choices))"
   ]
  },
  {
   "cell_type": "code",
   "execution_count": 3,
   "metadata": {},
   "outputs": [
    {
     "name": "stderr",
     "output_type": "stream",
     "text": [
      "\u001b[32m[2023-07-16 22:37:48,157] [    INFO]\u001b[0m - We are using <class 'paddlenlp.transformers.ernie.tokenizer.ErnieTokenizer'> to load 'G:\\code\\github\\PaddleNLP\\outputs\\tnews'.\u001b[0m\n"
     ]
    },
    {
     "name": "stdout",
     "output_type": "stream",
     "text": [
      "[{'text_a': '加长3.4米，玛莎拉蒂Ghibli奇特改装，内饰极尽奢华', 'predictions': [{'label': '文化', 'score': 0.06777123096827374}]}]\n"
     ]
    }
   ],
   "source": [
    "model_dir = r\"G:\\code\\github\\PaddleNLP\\outputs\\tnews\"\n",
    "\n",
    "my_cls = Taskflow(\n",
    "    \"zero_shot_text_classification\", \n",
    "    model=\"utc-base\",\n",
    "    schema=choices,\n",
    "    task_path=model_dir,\n",
    "    precision=\"fp32\",\n",
    "    single_label=True)\n",
    "task_instance = my_cls.task_instance\n",
    "print(my_cls(\"加长3.4米，玛莎拉蒂Ghibli奇特改装，内饰极尽奢华\"))"
   ]
  },
  {
   "cell_type": "code",
   "execution_count": 4,
   "metadata": {},
   "outputs": [
    {
     "data": {
      "text/plain": [
       "512"
      ]
     },
     "execution_count": 4,
     "metadata": {},
     "output_type": "execute_result"
    }
   ],
   "source": [
    "task_instance._max_seq_len"
   ]
  },
  {
   "cell_type": "code",
   "execution_count": 5,
   "metadata": {},
   "outputs": [
    {
     "data": {
      "text/plain": [
       "True"
      ]
     },
     "execution_count": 5,
     "metadata": {},
     "output_type": "execute_result"
    }
   ],
   "source": [
    "task_instance._single_label"
   ]
  },
  {
   "cell_type": "code",
   "execution_count": 15,
   "metadata": {},
   "outputs": [
    {
     "ename": "NameError",
     "evalue": "name 'ZeroShotTextClassificationTask' is not defined",
     "output_type": "error",
     "traceback": [
      "\u001b[1;31m---------------------------------------------------------------------------\u001b[0m",
      "\u001b[1;31mNameError\u001b[0m                                 Traceback (most recent call last)",
      "Cell \u001b[1;32mIn[15], line 1\u001b[0m\n\u001b[1;32m----> 1\u001b[0m \u001b[39mdir\u001b[39m(ZeroShotTextClassificationTask)\n",
      "\u001b[1;31mNameError\u001b[0m: name 'ZeroShotTextClassificationTask' is not defined"
     ]
    }
   ],
   "source": []
  }
 ],
 "metadata": {
  "kernelspec": {
   "display_name": "venv",
   "language": "python",
   "name": "python3"
  },
  "language_info": {
   "codemirror_mode": {
    "name": "ipython",
    "version": 3
   },
   "file_extension": ".py",
   "mimetype": "text/x-python",
   "name": "python",
   "nbconvert_exporter": "python",
   "pygments_lexer": "ipython3",
   "version": "3.8.12"
  },
  "orig_nbformat": 4
 },
 "nbformat": 4,
 "nbformat_minor": 2
}
