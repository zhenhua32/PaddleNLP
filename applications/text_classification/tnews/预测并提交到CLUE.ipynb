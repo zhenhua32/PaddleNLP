{
 "cells": [
  {
   "cell_type": "code",
   "execution_count": 17,
   "metadata": {},
   "outputs": [],
   "source": [
    "import os\n",
    "import json\n",
    "import pandas as pd\n",
    "from tqdm import tqdm\n",
    "from tqdm.contrib.concurrent import thread_map\n",
    "from paddlenlp import Taskflow"
   ]
  },
  {
   "cell_type": "code",
   "execution_count": 23,
   "metadata": {},
   "outputs": [
    {
     "name": "stderr",
     "output_type": "stream",
     "text": [
      "\u001b[32m[2023-08-23 21:29:22,156] [    INFO]\u001b[0m - We are using <class 'paddlenlp.transformers.ernie.tokenizer.ErnieTokenizer'> to load 'G:\\code\\github\\PaddleNLP\\outputs\\tnews_public\\ernie-3.0-xbase-zh\\export'.\u001b[0m\n",
      "\u001b[32m[2023-08-23 21:29:29,205] [    INFO]\u001b[0m - Load id2label from G:\\code\\github\\PaddleNLP\\outputs\\tnews_public\\ernie-3.0-xbase-zh\\export\\id2label.json.\u001b[0m\n"
     ]
    }
   ],
   "source": [
    "model_dir = r\"G:\\code\\github\\PaddleNLP\\outputs\\tnews_public\\ernie-3.0-xbase-zh\\export\"\n",
    "\n",
    "cls = Taskflow(\"text_classification\", task_path=model_dir, is_static_model=True)"
   ]
  },
  {
   "cell_type": "code",
   "execution_count": 24,
   "metadata": {},
   "outputs": [
    {
     "data": {
      "text/plain": [
       "[{'predictions': [{'label': 'news_entertainment',\n",
       "    'score': 0.9744371611866152}],\n",
       "  'text': '景甜出演我的女孩'}]"
      ]
     },
     "execution_count": 24,
     "metadata": {},
     "output_type": "execute_result"
    }
   ],
   "source": [
    "cls([\"景甜出演我的女孩\"])"
   ]
  },
  {
   "cell_type": "markdown",
   "metadata": {},
   "source": [
    "需要输出成这样的格式\n",
    "\n",
    "```json\n",
    "{\"id\": 0, \"label\": \"102\", \"label_desc\": \"news_entertainment\"}\n",
    "{\"id\": 1, \"label\": \"116\", \"label_desc\": \"news_game\"}\n",
    "{\"id\": 2, \"label\": \"107\", \"label_desc\": \"news_car\"}\n",
    "```"
   ]
  },
  {
   "cell_type": "code",
   "execution_count": 25,
   "metadata": {},
   "outputs": [
    {
     "name": "stdout",
     "output_type": "stream",
     "text": [
      "{'news_story': '100', 'news_culture': '101', 'news_entertainment': '102', 'news_sports': '103', 'news_finance': '104', 'news_house': '106', 'news_car': '107', 'news_edu': '108', 'news_tech': '109', 'news_military': '110', 'news_travel': '112', 'news_world': '113', 'news_stock': '114', 'news_agriculture': '115', 'news_game': '116'}\n"
     ]
    }
   ],
   "source": [
    "data_dir = r\"G:\\dataset\\text_classify\\tnews_public\\raw\"\n",
    "\n",
    "label_file = os.path.join(data_dir, \"labels.json\")\n",
    "label2id = dict()\n",
    "with open(label_file, \"r\", encoding=\"utf-8\") as f:\n",
    "    for line in f:\n",
    "        line = json.loads(line)\n",
    "        label_id = line[\"label\"]\n",
    "        label = line[\"label_desc\"]\n",
    "        label2id[label] = label_id\n",
    "\n",
    "print(label2id)"
   ]
  },
  {
   "cell_type": "code",
   "execution_count": 26,
   "metadata": {},
   "outputs": [],
   "source": [
    "def predict_one_line(line: str) -> str:\n",
    "    \"\"\"\n",
    "    预测一行数据\n",
    "    \"\"\"\n",
    "    line = json.loads(line)\n",
    "    id = line[\"id\"]\n",
    "    sentence = line[\"sentence\"]\n",
    "    \n",
    "    result = cls([sentence])\n",
    "    label = result[0][\"predictions\"][0][\"label\"]\n",
    "    label_id = label2id[label]\n",
    "\n",
    "    return json.dumps({\"id\": id, \"label\": label_id, \"label_desc\": label}, ensure_ascii=False)"
   ]
  },
  {
   "cell_type": "code",
   "execution_count": 27,
   "metadata": {},
   "outputs": [],
   "source": [
    "def predict_file(input_file: str, output_file: str):\n",
    "    with open(input_file, \"r\", encoding=\"utf-8\") as f:\n",
    "        lines = []\n",
    "        for line in tqdm(f):\n",
    "            lines.append(predict_one_line(line))\n",
    "    with open(output_file, \"w\", encoding=\"utf-8\") as f:\n",
    "        f.write(\"\\n\".join(lines))"
   ]
  },
  {
   "cell_type": "code",
   "execution_count": 28,
   "metadata": {},
   "outputs": [
    {
     "name": "stderr",
     "output_type": "stream",
     "text": [
      "10000it [00:40, 245.99it/s]\n",
      "10000it [00:40, 249.66it/s]\n"
     ]
    }
   ],
   "source": [
    "output_dir = r\"G:\\dataset\\text_classify\\tnews_public\\submit\"\n",
    "\n",
    "file = os.path.join(data_dir, \"test1.0.json\")\n",
    "output_file = os.path.join(output_dir, \"tnews10_predict.json\")\n",
    "predict_file(file, output_file)\n",
    "\n",
    "file = os.path.join(data_dir, \"test.json\")\n",
    "output_file = os.path.join(output_dir, \"tnews11_predict.json\")\n",
    "predict_file(file, output_file)"
   ]
  }
 ],
 "metadata": {
  "kernelspec": {
   "display_name": "venv",
   "language": "python",
   "name": "python3"
  },
  "language_info": {
   "codemirror_mode": {
    "name": "ipython",
    "version": 3
   },
   "file_extension": ".py",
   "mimetype": "text/x-python",
   "name": "python",
   "nbconvert_exporter": "python",
   "pygments_lexer": "ipython3",
   "version": "3.8.12"
  },
  "orig_nbformat": 4
 },
 "nbformat": 4,
 "nbformat_minor": 2
}
