{
 "cells": [
  {
   "cell_type": "code",
   "execution_count": 1,
   "metadata": {},
   "outputs": [],
   "source": [
    "import os\n",
    "import json\n",
    "import pandas as pd"
   ]
  },
  {
   "cell_type": "code",
   "execution_count": 2,
   "metadata": {},
   "outputs": [],
   "source": [
    "input_dir = r\"G:\\dataset\\text_classify\\tnews_public\\raw\"\n",
    "output_dir = r\"G:\\dataset\\text_classify\\tnews_public\\paddlenlp\"\n",
    "os.makedirs(output_dir, exist_ok=True)"
   ]
  },
  {
   "cell_type": "code",
   "execution_count": 3,
   "metadata": {},
   "outputs": [],
   "source": [
    "input_label = os.path.join(input_dir, \"labels.json\")\n",
    "output_label = os.path.join(output_dir, \"label.txt\")\n",
    "\n",
    "label_list = []\n",
    "with open(input_label, \"r\", encoding=\"utf-8\") as f:\n",
    "    for line in f:\n",
    "        line = json.loads(line)\n",
    "        label_list.append(line[\"label_desc\"])\n",
    "\n",
    "with open(output_label, \"w\", encoding=\"utf-8\") as f:\n",
    "    f.write(\"\\n\".join(label_list))"
   ]
  },
  {
   "cell_type": "code",
   "execution_count": 4,
   "metadata": {},
   "outputs": [
    {
     "name": "stdout",
     "output_type": "stream",
     "text": [
      "save train.json to G:\\dataset\\text_classify\\tnews_public\\paddlenlp\\train.txt success!\n",
      "save dev.json to G:\\dataset\\text_classify\\tnews_public\\paddlenlp\\dev.txt success!\n"
     ]
    }
   ],
   "source": [
    "for name in [\"train.json\", \"dev.json\"]:\n",
    "    input_file = os.path.join(input_dir, name)\n",
    "    output_file = os.path.join(output_dir, name.replace(\".json\", \".txt\"))\n",
    "    df = pd.read_json(input_file, orient=\"records\", lines=True)\n",
    "    df.to_csv(output_file, sep=\"\\t\", index=False, header=False, columns=[\"sentence\", \"label_desc\"])\n",
    "    print(f\"save {name} to {output_file} success!\")"
   ]
  },
  {
   "cell_type": "code",
   "execution_count": 5,
   "metadata": {},
   "outputs": [
    {
     "name": "stdout",
     "output_type": "stream",
     "text": [
      "save test1.0.json to G:\\dataset\\text_classify\\tnews_public\\paddlenlp\\test1.0.txt success!\n",
      "save test.json to G:\\dataset\\text_classify\\tnews_public\\paddlenlp\\test.txt success!\n"
     ]
    }
   ],
   "source": [
    "for name in [\"test1.0.json\", \"test.json\"]:\n",
    "    input_file = os.path.join(input_dir, name)\n",
    "    output_file = os.path.join(output_dir, name.replace(\".json\", \".txt\"))\n",
    "    df = pd.read_json(input_file, orient=\"records\", lines=True)\n",
    "    df.to_csv(output_file, sep=\"\\t\", index=False, header=False, columns=[\"sentence\"])\n",
    "    print(f\"save {name} to {output_file} success!\")"
   ]
  }
 ],
 "metadata": {
  "kernelspec": {
   "display_name": "venv",
   "language": "python",
   "name": "python3"
  },
  "language_info": {
   "codemirror_mode": {
    "name": "ipython",
    "version": 3
   },
   "file_extension": ".py",
   "mimetype": "text/x-python",
   "name": "python",
   "nbconvert_exporter": "python",
   "pygments_lexer": "ipython3",
   "version": "3.8.12"
  },
  "orig_nbformat": 4
 },
 "nbformat": 4,
 "nbformat_minor": 2
}
