{
 "cells": [
  {
   "cell_type": "code",
   "execution_count": 1,
   "metadata": {},
   "outputs": [],
   "source": [
    "import os\n",
    "import json\n",
    "import pandas as pd\n",
    "from paddlenlp import Taskflow"
   ]
  },
  {
   "cell_type": "code",
   "execution_count": 2,
   "metadata": {},
   "outputs": [
    {
     "name": "stderr",
     "output_type": "stream",
     "text": [
      "\u001b[32m[2023-08-22 22:11:56,395] [    INFO]\u001b[0m - We are using <class 'paddlenlp.transformers.ernie.tokenizer.ErnieTokenizer'> to load 'G:\\code\\github\\PaddleNLP\\outputs\\tnews_public\\ernie-1.0-base-zh-cw\\export'.\u001b[0m\n",
      "\u001b[32m[2023-08-22 22:12:01,247] [    INFO]\u001b[0m - Load id2label from G:\\code\\github\\PaddleNLP\\outputs\\tnews_public\\ernie-1.0-base-zh-cw\\export\\id2label.json.\u001b[0m\n"
     ]
    }
   ],
   "source": [
    "model_dir = r\"G:\\code\\github\\PaddleNLP\\outputs\\tnews_public\\ernie-1.0-base-zh-cw\\export\"\n",
    "\n",
    "cls = Taskflow(\"text_classification\", task_path=model_dir, is_static_model=True)"
   ]
  },
  {
   "cell_type": "code",
   "execution_count": 4,
   "metadata": {},
   "outputs": [
    {
     "data": {
      "text/plain": [
       "[{'predictions': [{'label': 'news_agriculture', 'score': 0.5405073697238026}],\n",
       "  'text': '黑苦荞茶的功效与作用及食用方法'},\n",
       " {'predictions': [{'label': 'news_entertainment',\n",
       "    'score': 0.9305989926130843}],\n",
       "  'text': '景甜出演我的女孩'}]"
      ]
     },
     "execution_count": 4,
     "metadata": {},
     "output_type": "execute_result"
    }
   ],
   "source": [
    "cls([\"黑苦荞茶的功效与作用及食用方法\", \"景甜出演我的女孩\"])"
   ]
  },
  {
   "cell_type": "code",
   "execution_count": 5,
   "metadata": {},
   "outputs": [],
   "source": [
    "# 裁剪模型预测\n",
    "# cls = Taskflow(\"text_classification\", task_path='checkpoint/prune/width_mult_0.67', is_static_model=True)\n",
    "# cls([\"黑苦荞茶的功效与作用及食用方法\",\"幼儿挑食的生理原因是\"])\n",
    "# [{'predictions': [{'label': '功效作用', 'score': 0.964693000149321}], 'text': '黑苦荞茶的功效与作用及食用方法'}, {'predictions': [{'label': '病因分析', 'score': 0.4915921440237312}], 'text': '幼儿挑食的生理原因是'}]"
   ]
  },
  {
   "cell_type": "code",
   "execution_count": null,
   "metadata": {},
   "outputs": [],
   "source": []
  }
 ],
 "metadata": {
  "kernelspec": {
   "display_name": "venv",
   "language": "python",
   "name": "python3"
  },
  "language_info": {
   "codemirror_mode": {
    "name": "ipython",
    "version": 3
   },
   "file_extension": ".py",
   "mimetype": "text/x-python",
   "name": "python",
   "nbconvert_exporter": "python",
   "pygments_lexer": "ipython3",
   "version": "3.8.12"
  },
  "orig_nbformat": 4
 },
 "nbformat": 4,
 "nbformat_minor": 2
}
